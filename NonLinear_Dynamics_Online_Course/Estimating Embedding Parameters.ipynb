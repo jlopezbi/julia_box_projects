{
 "cells": [
  {
   "cell_type": "code",
   "execution_count": 24,
   "metadata": {},
   "outputs": [
    {
     "data": {
      "text/plain": [
       "5000×1 Array{Float64,2}:\n",
       "  3.61\n",
       "  4.31\n",
       "  4.83\n",
       "  5.18\n",
       "  5.36\n",
       "  5.31\n",
       "  5.15\n",
       "  4.92\n",
       "  4.23\n",
       "  3.53\n",
       "  2.84\n",
       "  1.86\n",
       "  0.89\n",
       "  ⋮   \n",
       " -0.32\n",
       "  1.25\n",
       "  2.53\n",
       "  4.03\n",
       "  5.39\n",
       "  6.38\n",
       "  7.38\n",
       "  8.17\n",
       "  8.5 \n",
       "  8.75\n",
       "  8.68\n",
       "  8.22"
      ]
     },
     "execution_count": 24,
     "metadata": {},
     "output_type": "execute_result"
    }
   ],
   "source": [
    "d = readcsv(\"amplitude_data.csv\")"
   ]
  },
  {
   "cell_type": "code",
   "execution_count": 28,
   "metadata": {},
   "outputs": [
    {
     "data": {
      "text/plain": [
       "8.22"
      ]
     },
     "execution_count": 28,
     "metadata": {},
     "output_type": "execute_result"
    }
   ],
   "source": []
  },
  {
   "cell_type": "code",
   "execution_count": null,
   "metadata": {},
   "outputs": [],
   "source": []
  }
 ],
 "metadata": {
  "kernelspec": {
   "display_name": "Julia 0.6.0",
   "language": "julia",
   "name": "julia-0.6"
  },
  "language_info": {
   "file_extension": ".jl",
   "mimetype": "application/julia",
   "name": "julia",
   "version": "0.6.0"
  }
 },
 "nbformat": 4,
 "nbformat_minor": 2
}
