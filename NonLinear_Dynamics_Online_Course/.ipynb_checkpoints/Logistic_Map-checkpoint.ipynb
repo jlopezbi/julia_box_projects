{
 "cells": [
  {
   "cell_type": "code",
   "execution_count": 9,
   "metadata": {
    "collapsed": false
   },
   "outputs": [
    {
     "name": "stderr",
     "output_type": "stream",
     "text": [
      "WARNING: replacing module LogisticMap\n"
     ]
    },
    {
     "data": {
      "text/plain": [
       "LogisticMap"
      ]
     },
     "execution_count": 9,
     "metadata": {},
     "output_type": "execute_result"
    }
   ],
   "source": [
    "module LogisticMap\n",
    "\n",
    "function logistic(x, r)\n",
    "    return r*x*(1.0-x)\n",
    "end\n",
    "\n",
    "function logistic_loop(;n=20, r=2.4, x_0=.1)\n",
    "    x = x_0\n",
    "    iterates = []\n",
    "    for i = 1:n\n",
    "        x = logistic(x, r)\n",
    "        push!(iterates, x)\n",
    "    end\n",
    "    return iterates\n",
    "end\n",
    "\n",
    "end"
   ]
  },
  {
   "cell_type": "code",
   "execution_count": 12,
   "metadata": {
    "collapsed": false
   },
   "outputs": [],
   "source": [
    "using LogisticMap: logistic_loop"
   ]
  },
  {
   "cell_type": "code",
   "execution_count": null,
   "metadata": {
    "collapsed": true
   },
   "outputs": [],
   "source": []
  }
 ],
 "metadata": {
  "kernelspec": {
   "display_name": "Julia 0.5.2",
   "language": "julia",
   "name": "julia-0.5"
  },
  "language_info": {
   "file_extension": ".jl",
   "mimetype": "application/julia",
   "name": "julia",
   "version": "0.5.2"
  }
 },
 "nbformat": 4,
 "nbformat_minor": 2
}
