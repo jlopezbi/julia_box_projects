
function forward_euler_solver(x_curr; ODE=(f(x)=[0 1; -1 0]*x), t_step=.1)
    # "Explicit" solver
    x_next = x_curr + t_step * ODE(x_curr)
    return x_next
end

forward_euler_solver([1;0])

function backward_euler(x_curr; ODE=(x -> [0 1; -1 0]*x), t_step=.1)
    # Implicit Solver
    x_rough = forward_euler_solver(x_curr, ODE=ODE, t_step=t_step)
    x_next = x_curr + t_step*ODE(x_rough)
end

function iterate_solver(;solver=(s(x) = x), init_condition=[1;1], steps=10)
    #assumes init_condition at t=0
    #solver is numerical ode that takes in x and outputs x_next
    #init_condition is an array of (pos, vel.) (x)
    #ODE takes in x and outputs xdot
    states = zeros(steps,2)
    x = init_condition
    for i = 1:steps
        x = solver(x)
        states[i,:] = x
    end
    return states
end

ode(x) = [ 0 1; -4 0]*x #SHO with k=2, m=.5, B=0, g=0

ode([2,1.1])

o(x) = [0 1; -2 0]*x
fs(x) = forward_euler_solver(x, ODE=o, t_step=.05)
iterate_solver(solver=fs, init_condition=[-1; -2], steps=10)

j(x) = backward_euler(x, t_step=.1, ODE = ode)
iterate_solver(solver=j, init_condition=[-1;-2], steps=5)

using PyPlot

s(x) = forward_euler_solver(x, ODE=ode, t_step=.1)
states = iterate_solver(solver=s, init_condition=[-1;-2], steps=200 )
plot(states[:,1], states[:,2])
xlim([-100,100])
ylim([-100,100])
xlabel("position")
ylabel("velocity")
#states[1,:]

r(x) = forward_euler_solver(x, ODE=ode, t_step=.11)
states = iterate_solver(solver=r, init_condition=[-1;-2], steps=200 )
plot(states[:,1], states[:,2])
#states[1,:]
xlim([-100,100])
ylim([-100,100])
xlabel("position")
ylabel("velocity")

s(x) = backward_euler(x, ODE=ode, t_step=.10)
l(x) = backward_euler(x, ODE=ode, t_step=.11)
n = 50
states_s = iterate_solver(solver=s, init_condition=[-1;-2], steps=n )
states_b = iterate_solver(solver=l, init_condition=[-1;-2], steps=n )
plot(states_s[:,1], states_s[:,2], label="t_step = .10")
plot(states_b[:,1], states_b[:,2], label="t_step = .11")
xlabel("position")
ylabel("velocity")
#states[1,:]
legend()
title("Backward Euler on SHO with no friction")

step = .1
n_step = 200
F(x) = forward_euler_solver(x, ODE=ode, t_step=step)
B(x) = backward_euler(x, ODE=ode, t_step=step)
states_f = iterate_solver(solver=F, init_condition=[-1;-2], steps=n_step )
states_b = iterate_solver(solver=B, init_condition=[-1;-2], steps=n_step )
plot(states_f[:,1], states_f[:,2], label="forward euler")
plot(states_b[:,1], states_b[:,2], label="backward euler")
xlim([-10,10])
ylim([-10,10])
xlabel("position")
ylabel("velocity")
legend()

function mean_vector(a,b)
    c = hcat(a,b)
    m = mean(c,2)
    return m
end

mean_vector([1;1], [2;0])

#NOTE: has been determined to not be a good method (see below)!
function average_forward_backward(x_curr; ODE=(f(x)=[0 1; -1 0]*x), t_step=.1)
    x_f = forward_euler_solver(x_curr)
    x_b = backward_euler(x_curr)
    x_mean = mean_vector(x_f, x_b)
    return x_mean
end

c = matplotlib[:cm][:viridis]


C = c(0:1:size(states,1));

n_step = 10000
#P(x) = forward_euler_solver(x, t_step= 100)
P(x) = average_forward_backward(x, t_step=.01)
states = iterate_solver(solver=P, init_condition=[-1;-2], steps=n_step )
lines = collect(zip(states[:,1], states[:,2]))
lines_2 = copy(lines)
deleteat!(lines, size(lines,1)) # remove last iterm
deleteat!(lines_2, 1) #remove first item
L = collect(zip(lines, lines_2)) #interleve arrays;


line_segments = matplotlib[:collections][:LineCollection](L, colors=C)
fig = figure("Line Collection Example",figsize=(10,10))
ax = axes()
ax[:add_collection](line_segments)
axis("image")
axis("tight")
xlim([0,1])
ylim([-2.6,-2.2])

scatter(states[:,1], states[:,2], cmap=c)

#verified correct with homework
function trapezoidal(x_curr; ODE=(f(x)=[0 1; -1 0]*x), t_step=.1)
    x_rough = x_curr + t_step*ODE(x_curr)
    x_next = x_curr + t_step/2.0*( ODE(x_curr) + ODE(x_rough) )
    return x_next
end

k = 2
m = .5
b = 0.0
sho_dissipative(x) = [ 0 1; -k/m -b/m]*x

x_o = [-1;-2]
n_step = 10
A(x) = trapezoidal(x, ODE = sho_dissipative, t_step=.05)
states = iterate_solver(solver=A, init_condition=x_o, steps=n_step )

n_step = 500
t = .01
F(x) = forward_euler_solver(x, ODE = sho_dissipative, t_step=.01)
B(x) = backward_euler(x, ODE = sho_dissipative, t_step=.01)
A(x) = average_forward_backward(x, ODE = sho_dissipative, t_step=.01)
T(x) = trapezoidal(x, ODE = sho_dissipative, t_step = t)
x_o = [0; 5]
states_F = iterate_solver(solver=F, init_condition=x_o, steps=n_step )
states_B = iterate_solver(solver=B, init_condition=x_o, steps=n_step )
states_A = iterate_solver(solver=A, init_condition=x_o, steps=n_step )
states_T = iterate_solver(solver=T, init_condition=x_o, steps=n_step )
#ax = plot(states_F[:,1], states_F[:,2], label="forward euler")
#ax = plot(states_B[:,1], states_B[:,2], label="backward euler")
#ax = plot(states_A[:,1], states_A[:,2], label="average euler")
ax = plot(states_T[:,1], states_T[:,2], label="trapezoidal")
title("Dissipative Simple Harmonic Oscillator with no gravity")
xlabel("position")
ylabel("velocity")
legend()
